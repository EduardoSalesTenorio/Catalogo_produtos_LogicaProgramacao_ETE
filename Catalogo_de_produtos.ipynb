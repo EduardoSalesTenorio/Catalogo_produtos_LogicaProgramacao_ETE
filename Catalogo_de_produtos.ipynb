{
  "nbformat": 4,
  "nbformat_minor": 0,
  "metadata": {
    "colab": {
      "provenance": [],
      "mount_file_id": "1WBRBjijvx3KxGKb9EG8ywfUeWaIC2vuy",
      "authorship_tag": "ABX9TyNaSMisQDqf6wP5MEpOeZ9a",
      "include_colab_link": true
    },
    "kernelspec": {
      "name": "python3",
      "display_name": "Python 3"
    },
    "language_info": {
      "name": "python"
    }
  },
  "cells": [
    {
      "cell_type": "markdown",
      "metadata": {
        "id": "view-in-github",
        "colab_type": "text"
      },
      "source": [
        "<a href=\"https://colab.research.google.com/github/EduardoSalesTenorio/Catalogo_produtos_LogicaProgramacao_ETE/blob/main/Catalogo_de_produtos.ipynb\" target=\"_parent\"><img src=\"https://colab.research.google.com/assets/colab-badge.svg\" alt=\"Open In Colab\"/></a>"
      ]
    },
    {
      "cell_type": "code",
      "execution_count": null,
      "metadata": {
        "id": "WUTOukfLjfAh"
      },
      "outputs": [],
      "source": [
        "LISTAFILTROS = []\n",
        "PRODUTOS = {}\n",
        "escolhaMenu()"
      ]
    },
    {
      "cell_type": "code",
      "source": [
        "def cadastrarProduto():\n",
        "\n",
        "  print(\"Cadastrando novo produto:\")\n",
        "  codAtual = str(input(\"Digite o codigo do produto: \"))\n",
        "\n",
        "  if codAtual != \"0\":\n",
        "    while codAtual in codigosCadastrados():\n",
        "      codAtual = str(input(\"Codigo existente, digite novamente: \"))\n",
        "\n",
        "    salvarArquivo(codAtual, True) #Envia o codAtual para a função pedir os demais dados\n",
        "    print(\"\\nCadastro realizado com sucesso!\")\n",
        "  else:\n",
        "    print(\"Voltando\")"
      ],
      "metadata": {
        "id": "zhkhdvBE20XL"
      },
      "execution_count": null,
      "outputs": []
    },
    {
      "cell_type": "code",
      "source": [
        "def editarProdutos():\n",
        "  print(\"Editando produto:\")\n",
        "  verProdutos()\n",
        "\n",
        "  codAtual = str(input(\"Digite o codigo do produto que deseja editar: \"))\n",
        "\n",
        "  if codAtual != \"0\":\n",
        "    while codAtual not in codigosCadastrados():\n",
        "      codAtual = str(input(\"Codigo não encontrado, digite novamente: \"))\n",
        "\n",
        "    linhas = carregarArquivo()\n",
        "\n",
        "    for i, linha in enumerate(linhas):\n",
        "      cod, nome, marca, preco, estoque, categoria, descricao = linha.strip().split(\",\")\n",
        "\n",
        "      if str(cod.strip()) == codAtual:\n",
        "        linhas[i] = salvarArquivo(codAtual, False)\n",
        "\n",
        "        with open(\"/content/drive/MyDrive/aarquivos/PRODUTOS.txt\", \"w\") as arquivo:\n",
        "          arquivo.writelines(linhas)\n",
        "          print(\"Produto Atualizado com Sucesso!\")\n",
        "\n",
        "  else:\n",
        "    print(\"Voltando\")"
      ],
      "metadata": {
        "id": "jeXLqLZB6pMS"
      },
      "execution_count": null,
      "outputs": []
    },
    {
      "cell_type": "code",
      "source": [
        "def codigosCadastrados():\n",
        "    with open(\"/content/drive/MyDrive/aarquivos/PRODUTOS.txt\", \"r\") as arquivos:\n",
        "      linhas = arquivos.readlines()\n",
        "\n",
        "    #linhas = carregarArquivo() #carregando todos os arquivos para ver se o codigo já assiste\n",
        "    codigos = []\n",
        "    for linha in linhas:\n",
        "     cod = linha.strip().split(\",\")[0] #Populando variaveis com os dados\n",
        "     codigos.append(cod.strip())\n",
        "\n",
        "    return codigos"
      ],
      "metadata": {
        "id": "Zs1tNHBCrJLa"
      },
      "execution_count": null,
      "outputs": []
    },
    {
      "cell_type": "code",
      "source": [
        "def salvarArquivo(cod, cadastro):\n",
        "\n",
        "  nome = str(input(\"Digite o nome do produto: \")).upper()\n",
        "  marca = str(input(\"Digite a marca do produto: \")).upper()\n",
        "\n",
        "  #Loop para verificar caso o usuario digite um tipo invalido\n",
        "  while True:\n",
        "    try:\n",
        "      preco = float(input(\"Digite o valor do produto: \"))\n",
        "      break\n",
        "    except ValueError:\n",
        "      print(\"Valor invalido, digite novamente\")\n",
        "\n",
        "    #Loop para verificar caso o usuario digite um tipo invalido\n",
        "  while True:\n",
        "    try:\n",
        "      estoque = int(input(\"Digite estoque: \"))\n",
        "      break\n",
        "    except ValueError:\n",
        "      print(\"Valor invalido, digite novamente\")\n",
        "\n",
        "  categoria = str(input(\"Digite a categoria do produto: \")).upper()\n",
        "  descricao = str(input(\"Digite a descrição do produto: \")).upper()\n",
        "\n",
        "  if cadastro: #Entra aqui se for para criar um novo cadastro de produto\n",
        "    with open(\"/content/drive/MyDrive/aarquivos/PRODUTOS.txt\", \"a\") as arquivos:\n",
        "      arquivos.write(f\"{cod} , {nome} , {marca} , {preco} , {estoque} , {categoria} , {descricao} \\n\")\n",
        "\n",
        "  else: #Retorna para manipular para fazer a edição do produto\n",
        "    return f\"{cod} , {nome} , {marca} , {preco} , {estoque} , {categoria} , {descricao} \\n\""
      ],
      "metadata": {
        "id": "lN7Wi9gu4Obm"
      },
      "execution_count": null,
      "outputs": []
    },
    {
      "cell_type": "code",
      "source": [
        "def deleteProdutos():\n",
        "  print(\"Deletando produto:\")\n",
        "  verProdutos()\n",
        "  codAtual = str(input(\"Digite o codigo do produto que deseja APAGAR: \"))\n",
        "\n",
        "  if codAtual != \"0\":\n",
        "    while codAtual not in codigosCadastrados():\n",
        "      codAtual = str(input(\"Codigo existente, digite novamente: \"))\n",
        "\n",
        "    linhas = carregarArquivo()\n",
        "    for i, linha in enumerate(linhas):\n",
        "      cod, nome, marca, preco, estoque, categoria, descricao = linha.strip().split(\",\")\n",
        "\n",
        "      if str(cod.strip()) == codAtual:\n",
        "        del linhas[i]\n",
        "\n",
        "        with open(\"/content/drive/MyDrive/aarquivos/PRODUTOS.txt\", \"w\") as arquivo:\n",
        "          arquivo.writelines(linhas)\n",
        "          print(\"Produto excluido com sucesso!\")\n",
        "\n",
        "  else:\n",
        "    print(\"Voltando\")"
      ],
      "metadata": {
        "id": "TVAoaIIAfbA3"
      },
      "execution_count": null,
      "outputs": []
    },
    {
      "cell_type": "code",
      "source": [
        "def carregarArquivo():\n",
        "   with open(\"/content/drive/MyDrive/aarquivos/PRODUTOS.txt\", \"r\") as arquivos:\n",
        "    linhas = arquivos.readlines()\n",
        "\n",
        "    return linhas"
      ],
      "metadata": {
        "id": "gzBIrsfDdCGd"
      },
      "execution_count": null,
      "outputs": []
    },
    {
      "cell_type": "code",
      "source": [
        "def filtroProdutos():\n",
        "  filtro = mostrarFiltroProdutos()\n",
        "\n",
        "  print(\"Mostrando Produtos pelos filtros:\\n\")\n",
        "\n",
        "\n",
        "  for i, j in PRODUTOS.items():\n",
        "    if j[\"CATEGORIA\"] == LISTAFILTROS[filtro]:\n",
        "      print(f\"{i}) {j['NOME']} - {j['MARCA']} - R$ {j['PRECO']} - Est {j['ESTOQUE']} - {j['CATEGORIA']} - {j['DESCRICAO']}\")\n",
        "\n",
        "  print(\"\\n\\n\")"
      ],
      "metadata": {
        "id": "gnmqUdhV1V8p"
      },
      "execution_count": null,
      "outputs": []
    },
    {
      "cell_type": "code",
      "source": [
        "def verProdutos():\n",
        "\n",
        "  print(\"Mostrando Produtos:\")\n",
        "\n",
        "  with open(\"/content/drive/MyDrive/aarquivos/PRODUTOS.txt\", \"r\") as arquivo:\n",
        "    for i in arquivo:\n",
        "      cod, nome, marca, preco, estoque, categoria, descricao = i.strip().split(\",\")\n",
        "      print(f\"Codigo {cod}, Nome: {nome}, Marca: {marca}, Preço: R${preco}, Estoque: {estoque}, Categoria: {categoria}, Descrição: {descricao}\")\n",
        "\n",
        "  print(\"\\n\\n\")"
      ],
      "metadata": {
        "id": "02RNN05Gl2xt"
      },
      "execution_count": null,
      "outputs": []
    },
    {
      "cell_type": "code",
      "source": [
        "def mostrarFiltroProdutos():\n",
        "\n",
        "\n",
        "  with open(\"/content/drive/MyDrive/aarquivos/PRODUTOS.txt\", \"r\") as arquivo:\n",
        "    for i in arquivo:\n",
        "      cod, nome, marca, preco, estoque, categoria, descricao = i.strip().split(\",\")\n",
        "      if categoria not in LISTAFILTROS:\n",
        "        LISTAFILTROS.append(categoria)\n",
        "      PRODUTOS[cod] = {\"NOME\": nome, \"MARCA\": marca, \"PRECO\": preco, \"ESTOQUE\": estoque, \"CATEGORIA\": categoria, \"DESCRICAO\": descricao}\n",
        "\n",
        "  for i in LISTAFILTROS:\n",
        "    print(f\"{LISTAFILTROS.index(i) + 1}) {i}\")\n",
        "\n",
        "  print(\"\\n\")\n",
        "  retorno = int(input(\"Por qual Categoria gostaria de filtrar: \")) - 1\n",
        "  while retorno > len(LISTAFILTROS) - 1:\n",
        "    retorno = int(input(\"Opção invalida, favor tentar novamente: \")) - 1\n",
        "  return retorno\n"
      ],
      "metadata": {
        "id": "tvnS0MDs9Cl_"
      },
      "execution_count": null,
      "outputs": []
    },
    {
      "cell_type": "code",
      "source": [
        "def escolhaMenu():\n",
        "\n",
        "  while True:\n",
        "    menu()\n",
        "    escolha = str(input(\"Digite a sua escolha: \"))\n",
        "    print(\"\\n\")\n",
        "\n",
        "    if escolha == \"1\": #CADASTRAR\n",
        "      cadastrarProduto()\n",
        "\n",
        "    elif escolha == \"2\": #VER\n",
        "      verProdutos()\n",
        "\n",
        "    elif escolha == \"3\": #EDITAR\n",
        "      filtroProdutos()\n",
        "\n",
        "    elif escolha == \"4\":\n",
        "      editarProdutos()\n",
        "\n",
        "    elif escolha == \"5\": #EXCLUIR\n",
        "      deleteProdutos()\n",
        "\n",
        "    elif escolha == \"6\": #SAIR\n",
        "      print(\"Saindo do sistema...\")\n",
        "      break\n",
        "\n",
        "    elif escolha == \"0\":\n",
        "      print(\"Você já esta no inicio do programa.\")\n",
        "\n",
        "    else: #OPÇÃO NÃO ENCONTRADA\n",
        "      print(\"Não compreende, digite novamente.\\n\")"
      ],
      "metadata": {
        "id": "4x22pZ9UkkSm"
      },
      "execution_count": null,
      "outputs": []
    },
    {
      "cell_type": "code",
      "source": [
        "def menu():\n",
        "  print(\"\"\"\n",
        "  --------Menu--------\n",
        "\n",
        "  1 - Cadastrar produto\n",
        "  2 - Ver Produtos\n",
        "  3 - Produtos Filtrados\n",
        "  4 - Editar Produtos\n",
        "  5 - Excluir produtos\n",
        "  6 - Sair\n",
        "\n",
        "  \"\"\")"
      ],
      "metadata": {
        "id": "RD-FUH8fjt-v"
      },
      "execution_count": null,
      "outputs": []
    }
  ]
}